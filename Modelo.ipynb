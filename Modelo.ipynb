{
 "cells": [
  {
   "cell_type": "markdown",
   "id": "6b71af9c",
   "metadata": {},
   "source": [
    "# Introducción al ml con Python "
   ]
  },
  {
   "cell_type": "markdown",
   "id": "823d4d0c",
   "metadata": {},
   "source": [
    "En esta libreta realizaremos algunos modelos con la base abierta de [New York City Airbnb Open Data](https://www.kaggle.com/dgomonov/new-york-city-airbnb-open-data/version/3), la cuál contiene datos de los alojamientos listados en Airbnb para la ciudad de Nueva York. Realizaremos modelos básicos para predecir el precio de los alojamientos, con base en distitas variables o *features*"
   ]
  },
  {
   "cell_type": "markdown",
   "id": "58b92624",
   "metadata": {},
   "source": [
    "## 1. Introducción a *python*"
   ]
  },
  {
   "cell_type": "markdown",
   "id": "4cd22eca",
   "metadata": {},
   "source": [
    "Las libretas de [*Jupyter*](https://towardsdatascience.com/jypyter-notebook-shortcuts-bf0101a98330) son una excelente forma de realizar informes. Permiten combinar texto y código.\n",
    "\n",
    "Funciona mediante ventanas denominadas ***chunks***. Para crear un chunk colócate en el lugar en el que deseas crearlo aprieta la tecla ***esc*** y en seguida la letra ***A***, abrebiatura de *after* para agregar un *chunk* encima de la celda en que te encuentras, o bien ***B*** para agregarla debajo.\n",
    "\n",
    "### Celdas de texto\n",
    "Una vez en una celda, para habilitarla para texto empleamos la tecla ***esc***, en seguida la tecla ***M*** y ***enter***. Las celdas de texto admiten [lenguaje markdown](https://www.markdownguide.org/cheat-sheet/).\n",
    "### Celdas de código\n",
    "Para habilitar código en una celda, teclea ***esc*** y enseguida la tecla ***Y*** y ***enter***.\n",
    "\n",
    "### Operaciones básicas \n",
    "*Python* admite operaciones aritméticas básicas:"
   ]
  },
  {
   "cell_type": "code",
   "execution_count": 145,
   "id": "c92fdcbf",
   "metadata": {},
   "outputs": [
    {
     "name": "stdout",
     "output_type": "stream",
     "text": [
      "2\n",
      "4\n",
      "15\n",
      "1.7142857142857142\n",
      "1\n",
      "2\n",
      "5\n"
     ]
    }
   ],
   "source": [
    "print(1+1)\n",
    "print(2+2)\n",
    "print(5*3)\n",
    "print(12/7)\n",
    "print(12//7)\n",
    "print(round(12/7))\n",
    "print(12%7)"
   ]
  },
  {
   "cell_type": "markdown",
   "id": "8bc629fd",
   "metadata": {},
   "source": [
    "También admite operaciones lógicas:"
   ]
  },
  {
   "cell_type": "code",
   "execution_count": 146,
   "id": "98d735e8",
   "metadata": {},
   "outputs": [
    {
     "name": "stdout",
     "output_type": "stream",
     "text": [
      "True\n",
      "False\n"
     ]
    }
   ],
   "source": [
    "print(True and True)\n",
    "print(True and False)"
   ]
  },
  {
   "cell_type": "code",
   "execution_count": 147,
   "id": "6bfe975e",
   "metadata": {},
   "outputs": [
    {
     "name": "stdout",
     "output_type": "stream",
     "text": [
      "True\n",
      "True\n"
     ]
    }
   ],
   "source": [
    "print(True or True)\n",
    "print(True or False)"
   ]
  },
  {
   "cell_type": "code",
   "execution_count": 148,
   "id": "27158cf4",
   "metadata": {},
   "outputs": [
    {
     "name": "stdout",
     "output_type": "stream",
     "text": [
      "False\n"
     ]
    }
   ],
   "source": [
    "print(not True)"
   ]
  },
  {
   "cell_type": "markdown",
   "id": "1c0f4e2a",
   "metadata": {},
   "source": [
    "### Listas"
   ]
  },
  {
   "cell_type": "markdown",
   "id": "26de81bd",
   "metadata": {},
   "source": [
    "Además de los datos puntuales, en *python* existen las listas, que son colecciones de datos:"
   ]
  },
  {
   "cell_type": "code",
   "execution_count": 149,
   "id": "e06377e0",
   "metadata": {},
   "outputs": [
    {
     "name": "stdout",
     "output_type": "stream",
     "text": [
      "[1, 2, 3, 4]\n"
     ]
    }
   ],
   "source": [
    "print([1,2,3,4,])"
   ]
  },
  {
   "cell_type": "markdown",
   "id": "0262d4d8",
   "metadata": {},
   "source": [
    "### Variables"
   ]
  },
  {
   "cell_type": "markdown",
   "id": "1ff383ba",
   "metadata": {},
   "source": [
    "Es posible guardar tanto datos puntuales como listas, asignándolos a variables."
   ]
  },
  {
   "cell_type": "code",
   "execution_count": 150,
   "id": "1e559e2a",
   "metadata": {},
   "outputs": [],
   "source": [
    "x = 10"
   ]
  },
  {
   "cell_type": "code",
   "execution_count": 151,
   "id": "67780c97",
   "metadata": {},
   "outputs": [
    {
     "name": "stdout",
     "output_type": "stream",
     "text": [
      "10\n"
     ]
    }
   ],
   "source": [
    "print(x)"
   ]
  },
  {
   "cell_type": "code",
   "execution_count": 152,
   "id": "44ab3f60",
   "metadata": {},
   "outputs": [],
   "source": [
    "lista = [1,2,3,4,5]"
   ]
  },
  {
   "cell_type": "code",
   "execution_count": 153,
   "id": "6632827d",
   "metadata": {},
   "outputs": [
    {
     "name": "stdout",
     "output_type": "stream",
     "text": [
      "[1, 2, 3, 4, 5]\n"
     ]
    }
   ],
   "source": [
    "print(lista)"
   ]
  },
  {
   "cell_type": "markdown",
   "id": "1800a009",
   "metadata": {},
   "source": [
    "### Selecció de elementos en una lista"
   ]
  },
  {
   "cell_type": "markdown",
   "id": "b59c37d6",
   "metadata": {},
   "source": [
    "Para seleccionar alguno de los elementos almacenados en una lista invocamos el nombre de la lista y entre corchetes *[ ]* el índice del elemento que deseamos seleccionar. Es importante remarcar, que al igual que la mayoría de los lenguages de programación, *python* es index 0. Lo que quiere decir que el índice del primer elemento de la lista será cero."
   ]
  },
  {
   "cell_type": "code",
   "execution_count": 154,
   "id": "e4087fb4",
   "metadata": {},
   "outputs": [
    {
     "data": {
      "text/plain": [
       "1"
      ]
     },
     "execution_count": 154,
     "metadata": {},
     "output_type": "execute_result"
    }
   ],
   "source": [
    "lista[0]"
   ]
  },
  {
   "cell_type": "code",
   "execution_count": 155,
   "id": "fdb3f4b9",
   "metadata": {},
   "outputs": [
    {
     "data": {
      "text/plain": [
       "4"
      ]
     },
     "execution_count": 155,
     "metadata": {},
     "output_type": "execute_result"
    }
   ],
   "source": [
    "lista[3]"
   ]
  },
  {
   "cell_type": "markdown",
   "id": "52690f00",
   "metadata": {},
   "source": [
    "Para seleccionar varios elementos consecutivos de una lista empleamos dos puntos *:*."
   ]
  },
  {
   "cell_type": "code",
   "execution_count": 156,
   "id": "3405579a",
   "metadata": {},
   "outputs": [
    {
     "data": {
      "text/plain": [
       "[1, 2, 3]"
      ]
     },
     "execution_count": 156,
     "metadata": {},
     "output_type": "execute_result"
    }
   ],
   "source": [
    "lista[0:3]"
   ]
  },
  {
   "cell_type": "code",
   "execution_count": 157,
   "id": "8a8d8c46",
   "metadata": {},
   "outputs": [
    {
     "data": {
      "text/plain": [
       "[4, 5]"
      ]
     },
     "execution_count": 157,
     "metadata": {},
     "output_type": "execute_result"
    }
   ],
   "source": [
    "lista[3:]"
   ]
  },
  {
   "cell_type": "markdown",
   "id": "86c5a8b6",
   "metadata": {},
   "source": [
    "### Funciones"
   ]
  },
  {
   "cell_type": "markdown",
   "id": "fac9e59d",
   "metadata": {},
   "source": [
    "Además de las operaciones básicas, *python* es capaz de ejecutar [funciones](https://docs.python.org/3/library/functions.html):"
   ]
  },
  {
   "cell_type": "code",
   "execution_count": 158,
   "id": "311a3463",
   "metadata": {},
   "outputs": [
    {
     "name": "stdout",
     "output_type": "stream",
     "text": [
      "2\n"
     ]
    }
   ],
   "source": [
    "print(round(2.5))"
   ]
  },
  {
   "cell_type": "markdown",
   "id": "b33dee8c",
   "metadata": {},
   "source": [
    "### Modulos"
   ]
  },
  {
   "cell_type": "markdown",
   "id": "008d8b17",
   "metadata": {},
   "source": [
    "*Python* contiene definidas solo algunas funciones, lo cuál permite realizar operaciones básicas. Pero los módulos o librerías, que son creados y mantenidos por la comunidad, extienden esas funcionalidades. Para instalar un módulo se requiere seguir la siguiente instrucción:"
   ]
  },
  {
   "cell_type": "code",
   "execution_count": 159,
   "id": "3fd7b004",
   "metadata": {},
   "outputs": [],
   "source": [
    "# !pip install pandas"
   ]
  },
  {
   "cell_type": "markdown",
   "id": "36bd11cb",
   "metadata": {},
   "source": [
    "Solo es necesario instalar los módulos una vez. Posteriormete ya no es necesario volverlas a instalar, y basta con llamarlos. Llamarlos, si es necesario hacerlo en cada libreta que los vaya a usar. Regularmente el llamado a las librerías se hace al comienzo de la libreta."
   ]
  },
  {
   "cell_type": "code",
   "execution_count": 160,
   "id": "51b81197",
   "metadata": {},
   "outputs": [],
   "source": [
    "import pandas as pd\n",
    "import numpy as np\n",
    "import jedi\n",
    "import matplotlib.pyplot as plt\n",
    "import seaborn as sns\n",
    "from sklearn.model_selection import train_test_split\n",
    "from sklearn.linear_model import LinearRegression\n",
    "from sklearn.linear_model import Ridge\n",
    "from sklearn.tree import DecisionTreeRegressor"
   ]
  },
  {
   "cell_type": "markdown",
   "id": "0ff7f6c3",
   "metadata": {},
   "source": [
    "Las librerías o módulos se llaman empleando la palabra ***library*** seguida de la librería que se desea invocar. Es posible agregar un alias a las librerías empleando la palabra ***as***. Existen algunos álias fijados por convención, como en el caso de *pd* para la librería *pandas*, la cuál se emplea para realizar operaciones con *data frames* o tablas de datos.\n",
    "Una vez que se ha invocado una librería, es posible acceder a sus funciones llamándola, o bien a su alias, seguida de un punto ***.*** y la función que se desea utilizar."
   ]
  },
  {
   "cell_type": "markdown",
   "id": "36dd08f9",
   "metadata": {},
   "source": [
    "## Importar datos"
   ]
  },
  {
   "cell_type": "markdown",
   "id": "f7431f1b",
   "metadata": {},
   "source": [
    "La librería *pandas* cuenta con diversas funciones para importar datos a *python*. En este caso emplearemos la función [read_csv](https://pandas.pydata.org/docs/reference/api/pandas.read_csv.html):"
   ]
  },
  {
   "cell_type": "code",
   "execution_count": 161,
   "id": "2bde8b30",
   "metadata": {},
   "outputs": [],
   "source": [
    "df = pd.read_csv('AB_NYC_2019.csv')"
   ]
  },
  {
   "cell_type": "markdown",
   "id": "701aa856",
   "metadata": {},
   "source": [
    "Al emplear la librería *pandas* se crea un objeto del tipo *DataFrame*:"
   ]
  },
  {
   "cell_type": "code",
   "execution_count": 162,
   "id": "1e128b0b",
   "metadata": {},
   "outputs": [
    {
     "data": {
      "text/plain": [
       "pandas.core.frame.DataFrame"
      ]
     },
     "execution_count": 162,
     "metadata": {},
     "output_type": "execute_result"
    }
   ],
   "source": [
    "type(df)"
   ]
  },
  {
   "cell_type": "markdown",
   "id": "66a3e980",
   "metadata": {},
   "source": [
    "Este objeto tiene distintos *methods* asosiados útiles para el análisis de datos. A diferencia de las funciones, los *methods* se invocan despues del objeto."
   ]
  },
  {
   "cell_type": "markdown",
   "id": "39a8c9d2",
   "metadata": {},
   "source": [
    "El *method* *shape* devuelve un vector que muestra las dimenciones de la *data frame*, el primer elemento contiene el número de filas de la tabla, y el segundo su número de columnas."
   ]
  },
  {
   "cell_type": "code",
   "execution_count": 163,
   "id": "3fd6c22f",
   "metadata": {},
   "outputs": [
    {
     "name": "stdout",
     "output_type": "stream",
     "text": [
      "(48895, 16)\n"
     ]
    }
   ],
   "source": [
    "print(df.shape)"
   ]
  },
  {
   "cell_type": "markdown",
   "id": "9ac2d829",
   "metadata": {},
   "source": [
    "El *method* *head* muestra las primeras filas de la *dataframe*. Por definición muestra las 5 primeras filas, pero es posible modificar el número de filas mostrado, agregando el número entre paréntesis."
   ]
  },
  {
   "cell_type": "code",
   "execution_count": 164,
   "id": "07c29399",
   "metadata": {},
   "outputs": [
    {
     "data": {
      "text/html": [
       "<div>\n",
       "<style scoped>\n",
       "    .dataframe tbody tr th:only-of-type {\n",
       "        vertical-align: middle;\n",
       "    }\n",
       "\n",
       "    .dataframe tbody tr th {\n",
       "        vertical-align: top;\n",
       "    }\n",
       "\n",
       "    .dataframe thead th {\n",
       "        text-align: right;\n",
       "    }\n",
       "</style>\n",
       "<table border=\"1\" class=\"dataframe\">\n",
       "  <thead>\n",
       "    <tr style=\"text-align: right;\">\n",
       "      <th></th>\n",
       "      <th>id</th>\n",
       "      <th>name</th>\n",
       "      <th>host_id</th>\n",
       "      <th>host_name</th>\n",
       "      <th>neighbourhood_group</th>\n",
       "      <th>neighbourhood</th>\n",
       "      <th>latitude</th>\n",
       "      <th>longitude</th>\n",
       "      <th>room_type</th>\n",
       "      <th>price</th>\n",
       "      <th>minimum_nights</th>\n",
       "      <th>number_of_reviews</th>\n",
       "      <th>last_review</th>\n",
       "      <th>reviews_per_month</th>\n",
       "      <th>calculated_host_listings_count</th>\n",
       "      <th>availability_365</th>\n",
       "    </tr>\n",
       "  </thead>\n",
       "  <tbody>\n",
       "    <tr>\n",
       "      <th>0</th>\n",
       "      <td>2539</td>\n",
       "      <td>Clean &amp; quiet apt home by the park</td>\n",
       "      <td>2787</td>\n",
       "      <td>John</td>\n",
       "      <td>Brooklyn</td>\n",
       "      <td>Kensington</td>\n",
       "      <td>40.64749</td>\n",
       "      <td>-73.97237</td>\n",
       "      <td>Private room</td>\n",
       "      <td>149</td>\n",
       "      <td>1</td>\n",
       "      <td>9</td>\n",
       "      <td>2018-10-19</td>\n",
       "      <td>0.21</td>\n",
       "      <td>6</td>\n",
       "      <td>365</td>\n",
       "    </tr>\n",
       "    <tr>\n",
       "      <th>1</th>\n",
       "      <td>2595</td>\n",
       "      <td>Skylit Midtown Castle</td>\n",
       "      <td>2845</td>\n",
       "      <td>Jennifer</td>\n",
       "      <td>Manhattan</td>\n",
       "      <td>Midtown</td>\n",
       "      <td>40.75362</td>\n",
       "      <td>-73.98377</td>\n",
       "      <td>Entire home/apt</td>\n",
       "      <td>225</td>\n",
       "      <td>1</td>\n",
       "      <td>45</td>\n",
       "      <td>2019-05-21</td>\n",
       "      <td>0.38</td>\n",
       "      <td>2</td>\n",
       "      <td>355</td>\n",
       "    </tr>\n",
       "    <tr>\n",
       "      <th>2</th>\n",
       "      <td>3647</td>\n",
       "      <td>THE VILLAGE OF HARLEM....NEW YORK !</td>\n",
       "      <td>4632</td>\n",
       "      <td>Elisabeth</td>\n",
       "      <td>Manhattan</td>\n",
       "      <td>Harlem</td>\n",
       "      <td>40.80902</td>\n",
       "      <td>-73.94190</td>\n",
       "      <td>Private room</td>\n",
       "      <td>150</td>\n",
       "      <td>3</td>\n",
       "      <td>0</td>\n",
       "      <td>NaN</td>\n",
       "      <td>NaN</td>\n",
       "      <td>1</td>\n",
       "      <td>365</td>\n",
       "    </tr>\n",
       "    <tr>\n",
       "      <th>3</th>\n",
       "      <td>3831</td>\n",
       "      <td>Cozy Entire Floor of Brownstone</td>\n",
       "      <td>4869</td>\n",
       "      <td>LisaRoxanne</td>\n",
       "      <td>Brooklyn</td>\n",
       "      <td>Clinton Hill</td>\n",
       "      <td>40.68514</td>\n",
       "      <td>-73.95976</td>\n",
       "      <td>Entire home/apt</td>\n",
       "      <td>89</td>\n",
       "      <td>1</td>\n",
       "      <td>270</td>\n",
       "      <td>2019-07-05</td>\n",
       "      <td>4.64</td>\n",
       "      <td>1</td>\n",
       "      <td>194</td>\n",
       "    </tr>\n",
       "    <tr>\n",
       "      <th>4</th>\n",
       "      <td>5022</td>\n",
       "      <td>Entire Apt: Spacious Studio/Loft by central park</td>\n",
       "      <td>7192</td>\n",
       "      <td>Laura</td>\n",
       "      <td>Manhattan</td>\n",
       "      <td>East Harlem</td>\n",
       "      <td>40.79851</td>\n",
       "      <td>-73.94399</td>\n",
       "      <td>Entire home/apt</td>\n",
       "      <td>80</td>\n",
       "      <td>10</td>\n",
       "      <td>9</td>\n",
       "      <td>2018-11-19</td>\n",
       "      <td>0.10</td>\n",
       "      <td>1</td>\n",
       "      <td>0</td>\n",
       "    </tr>\n",
       "  </tbody>\n",
       "</table>\n",
       "</div>"
      ],
      "text/plain": [
       "     id                                              name  host_id  \\\n",
       "0  2539                Clean & quiet apt home by the park     2787   \n",
       "1  2595                             Skylit Midtown Castle     2845   \n",
       "2  3647               THE VILLAGE OF HARLEM....NEW YORK !     4632   \n",
       "3  3831                   Cozy Entire Floor of Brownstone     4869   \n",
       "4  5022  Entire Apt: Spacious Studio/Loft by central park     7192   \n",
       "\n",
       "     host_name neighbourhood_group neighbourhood  latitude  longitude  \\\n",
       "0         John            Brooklyn    Kensington  40.64749  -73.97237   \n",
       "1     Jennifer           Manhattan       Midtown  40.75362  -73.98377   \n",
       "2    Elisabeth           Manhattan        Harlem  40.80902  -73.94190   \n",
       "3  LisaRoxanne            Brooklyn  Clinton Hill  40.68514  -73.95976   \n",
       "4        Laura           Manhattan   East Harlem  40.79851  -73.94399   \n",
       "\n",
       "         room_type  price  minimum_nights  number_of_reviews last_review  \\\n",
       "0     Private room    149               1                  9  2018-10-19   \n",
       "1  Entire home/apt    225               1                 45  2019-05-21   \n",
       "2     Private room    150               3                  0         NaN   \n",
       "3  Entire home/apt     89               1                270  2019-07-05   \n",
       "4  Entire home/apt     80              10                  9  2018-11-19   \n",
       "\n",
       "   reviews_per_month  calculated_host_listings_count  availability_365  \n",
       "0               0.21                               6               365  \n",
       "1               0.38                               2               355  \n",
       "2                NaN                               1               365  \n",
       "3               4.64                               1               194  \n",
       "4               0.10                               1                 0  "
      ]
     },
     "execution_count": 164,
     "metadata": {},
     "output_type": "execute_result"
    }
   ],
   "source": [
    "df.head()"
   ]
  },
  {
   "cell_type": "markdown",
   "id": "7768fbc3",
   "metadata": {},
   "source": [
    "Para llamar alguna de las columnas ponemos primero el nombre de la *data frame* seguida de un punto, y el nombre de la columna que queremos invocar."
   ]
  },
  {
   "cell_type": "code",
   "execution_count": 165,
   "id": "b372e924",
   "metadata": {},
   "outputs": [
    {
     "data": {
      "text/plain": [
       "0    149\n",
       "1    225\n",
       "2    150\n",
       "3     89\n",
       "4     80\n",
       "Name: price, dtype: int64"
      ]
     },
     "execution_count": 165,
     "metadata": {},
     "output_type": "execute_result"
    }
   ],
   "source": [
    "df.price.head()"
   ]
  },
  {
   "cell_type": "markdown",
   "id": "03ae4ef5",
   "metadata": {},
   "source": [
    "Es posible seleccionar solo algunas filas y columnas. Para ello empleamos el *method* *loc*. *loc* admite un vector para seleccionar las filas y otro para seleccionar las columnas."
   ]
  },
  {
   "cell_type": "code",
   "execution_count": 166,
   "id": "7ff721d3",
   "metadata": {},
   "outputs": [
    {
     "data": {
      "text/plain": [
       "0                       Clean & quiet apt home by the park\n",
       "1                                    Skylit Midtown Castle\n",
       "2                      THE VILLAGE OF HARLEM....NEW YORK !\n",
       "3                          Cozy Entire Floor of Brownstone\n",
       "4         Entire Apt: Spacious Studio/Loft by central park\n",
       "                               ...                        \n",
       "48890      Charming one bedroom - newly renovated rowhouse\n",
       "48891        Affordable room in Bushwick/East Williamsburg\n",
       "48892              Sunny Studio at Historical Neighborhood\n",
       "48893                 43rd St. Time Square-cozy single bed\n",
       "48894    Trendy duplex in the very heart of Hell's Kitchen\n",
       "Name: name, Length: 48895, dtype: object"
      ]
     },
     "execution_count": 166,
     "metadata": {},
     "output_type": "execute_result"
    }
   ],
   "source": [
    "df.loc[:,'name']"
   ]
  },
  {
   "cell_type": "code",
   "execution_count": 167,
   "id": "ab8ba783",
   "metadata": {},
   "outputs": [
    {
     "data": {
      "text/html": [
       "<div>\n",
       "<style scoped>\n",
       "    .dataframe tbody tr th:only-of-type {\n",
       "        vertical-align: middle;\n",
       "    }\n",
       "\n",
       "    .dataframe tbody tr th {\n",
       "        vertical-align: top;\n",
       "    }\n",
       "\n",
       "    .dataframe thead th {\n",
       "        text-align: right;\n",
       "    }\n",
       "</style>\n",
       "<table border=\"1\" class=\"dataframe\">\n",
       "  <thead>\n",
       "    <tr style=\"text-align: right;\">\n",
       "      <th></th>\n",
       "      <th>id</th>\n",
       "      <th>host_name</th>\n",
       "    </tr>\n",
       "  </thead>\n",
       "  <tbody>\n",
       "    <tr>\n",
       "      <th>0</th>\n",
       "      <td>2539</td>\n",
       "      <td>John</td>\n",
       "    </tr>\n",
       "    <tr>\n",
       "      <th>1</th>\n",
       "      <td>2595</td>\n",
       "      <td>Jennifer</td>\n",
       "    </tr>\n",
       "    <tr>\n",
       "      <th>2</th>\n",
       "      <td>3647</td>\n",
       "      <td>Elisabeth</td>\n",
       "    </tr>\n",
       "    <tr>\n",
       "      <th>3</th>\n",
       "      <td>3831</td>\n",
       "      <td>LisaRoxanne</td>\n",
       "    </tr>\n",
       "    <tr>\n",
       "      <th>4</th>\n",
       "      <td>5022</td>\n",
       "      <td>Laura</td>\n",
       "    </tr>\n",
       "    <tr>\n",
       "      <th>5</th>\n",
       "      <td>5099</td>\n",
       "      <td>Chris</td>\n",
       "    </tr>\n",
       "  </tbody>\n",
       "</table>\n",
       "</div>"
      ],
      "text/plain": [
       "     id    host_name\n",
       "0  2539         John\n",
       "1  2595     Jennifer\n",
       "2  3647    Elisabeth\n",
       "3  3831  LisaRoxanne\n",
       "4  5022        Laura\n",
       "5  5099        Chris"
      ]
     },
     "execution_count": 167,
     "metadata": {},
     "output_type": "execute_result"
    }
   ],
   "source": [
    "df.loc[0:5,['id', 'host_name']]"
   ]
  },
  {
   "cell_type": "code",
   "execution_count": 168,
   "id": "6a432e3f",
   "metadata": {},
   "outputs": [
    {
     "data": {
      "text/html": [
       "<div>\n",
       "<style scoped>\n",
       "    .dataframe tbody tr th:only-of-type {\n",
       "        vertical-align: middle;\n",
       "    }\n",
       "\n",
       "    .dataframe tbody tr th {\n",
       "        vertical-align: top;\n",
       "    }\n",
       "\n",
       "    .dataframe thead th {\n",
       "        text-align: right;\n",
       "    }\n",
       "</style>\n",
       "<table border=\"1\" class=\"dataframe\">\n",
       "  <thead>\n",
       "    <tr style=\"text-align: right;\">\n",
       "      <th></th>\n",
       "      <th>neighbourhood_group</th>\n",
       "      <th>price</th>\n",
       "    </tr>\n",
       "  </thead>\n",
       "  <tbody>\n",
       "    <tr>\n",
       "      <th>496</th>\n",
       "      <td>Manhattan</td>\n",
       "      <td>2000</td>\n",
       "    </tr>\n",
       "    <tr>\n",
       "      <th>762</th>\n",
       "      <td>Manhattan</td>\n",
       "      <td>1300</td>\n",
       "    </tr>\n",
       "    <tr>\n",
       "      <th>946</th>\n",
       "      <td>Manhattan</td>\n",
       "      <td>3000</td>\n",
       "    </tr>\n",
       "    <tr>\n",
       "      <th>1105</th>\n",
       "      <td>Manhattan</td>\n",
       "      <td>1300</td>\n",
       "    </tr>\n",
       "    <tr>\n",
       "      <th>1480</th>\n",
       "      <td>Manhattan</td>\n",
       "      <td>2000</td>\n",
       "    </tr>\n",
       "    <tr>\n",
       "      <th>...</th>\n",
       "      <td>...</td>\n",
       "      <td>...</td>\n",
       "    </tr>\n",
       "    <tr>\n",
       "      <th>48080</th>\n",
       "      <td>Manhattan</td>\n",
       "      <td>1308</td>\n",
       "    </tr>\n",
       "    <tr>\n",
       "      <th>48304</th>\n",
       "      <td>Manhattan</td>\n",
       "      <td>2999</td>\n",
       "    </tr>\n",
       "    <tr>\n",
       "      <th>48305</th>\n",
       "      <td>Manhattan</td>\n",
       "      <td>1999</td>\n",
       "    </tr>\n",
       "    <tr>\n",
       "      <th>48523</th>\n",
       "      <td>Brooklyn</td>\n",
       "      <td>1369</td>\n",
       "    </tr>\n",
       "    <tr>\n",
       "      <th>48535</th>\n",
       "      <td>Brooklyn</td>\n",
       "      <td>1749</td>\n",
       "    </tr>\n",
       "  </tbody>\n",
       "</table>\n",
       "<p>239 rows × 2 columns</p>\n",
       "</div>"
      ],
      "text/plain": [
       "      neighbourhood_group  price\n",
       "496             Manhattan   2000\n",
       "762             Manhattan   1300\n",
       "946             Manhattan   3000\n",
       "1105            Manhattan   1300\n",
       "1480            Manhattan   2000\n",
       "...                   ...    ...\n",
       "48080           Manhattan   1308\n",
       "48304           Manhattan   2999\n",
       "48305           Manhattan   1999\n",
       "48523            Brooklyn   1369\n",
       "48535            Brooklyn   1749\n",
       "\n",
       "[239 rows x 2 columns]"
      ]
     },
     "execution_count": 168,
     "metadata": {},
     "output_type": "execute_result"
    }
   ],
   "source": [
    "df.loc[df.price > 1000,['neighbourhood_group','price']]"
   ]
  },
  {
   "cell_type": "markdown",
   "id": "024f7e2f",
   "metadata": {},
   "source": [
    "## EDA (Exploratory Data Analisys)"
   ]
  },
  {
   "cell_type": "markdown",
   "id": "5c9a4496",
   "metadata": {},
   "source": [
    "Hasta ahora hemos podido importar la base y realizar algunas operaciones básicas para seleccionar los datos. Ahora seleccionaremos las variables para construir nuestro modelo.\n",
    "\n",
    "En este ejercicio, nuestro objetivo es predecir el precio alcanzado por un alojamiento, en función de sus características. Primero exploraremos el precio, que es nuestra variable objetivo."
   ]
  },
  {
   "cell_type": "markdown",
   "id": "992f00c7",
   "metadata": {},
   "source": [
    "Dado que nuestro objetivo es predecir los precios, eliminaremos las observaciones que no muestren presios."
   ]
  },
  {
   "cell_type": "code",
   "execution_count": 169,
   "id": "1204c925",
   "metadata": {},
   "outputs": [],
   "source": [
    "df = df[df.price != 0]"
   ]
  },
  {
   "cell_type": "markdown",
   "id": "58c4104b",
   "metadata": {},
   "source": [
    "También eliminaremos las observaciones que no contienen datos en alguna de las características."
   ]
  },
  {
   "cell_type": "code",
   "execution_count": 170,
   "id": "e9352259",
   "metadata": {},
   "outputs": [],
   "source": [
    "df = df.dropna()"
   ]
  },
  {
   "cell_type": "code",
   "execution_count": 171,
   "id": "25f001d3",
   "metadata": {},
   "outputs": [
    {
     "data": {
      "text/plain": [
       "(38811, 16)"
      ]
     },
     "execution_count": 171,
     "metadata": {},
     "output_type": "execute_result"
    }
   ],
   "source": [
    "df.shape"
   ]
  },
  {
   "cell_type": "markdown",
   "id": "63e8d6fc",
   "metadata": {},
   "source": [
    "Un primer acercamiento para explorar una variable es analizar su distribución. De esta forma podremos ver si los precios están uniformemente distribuidos, o bien si su distribución se asemeja a una distribución normal. Para crear un histograma empleamos el *method* *hist*, el cuál crea una gráfica llamada *histograma* que muestra la distribución de la variable. En un histograma en el eje de las *X* se muestran los distintos valores de la variable, y en el eje de la *y* la frecuencia con que las observaciones que asumen estos valores. El parámetro *bins* determina el número de barras que tendrá el histograma."
   ]
  },
  {
   "cell_type": "code",
   "execution_count": 172,
   "id": "1c4a4845",
   "metadata": {},
   "outputs": [
    {
     "data": {
      "text/plain": [
       "<AxesSubplot:>"
      ]
     },
     "execution_count": 172,
     "metadata": {},
     "output_type": "execute_result"
    },
    {
     "data": {
      "image/png": "[encoded data removed]",
      "text/plain": [
       "<Figure size 432x288 with 1 Axes>"
      ]
     },
     "metadata": {
      "needs_background": "light"
     },
     "output_type": "display_data"
    }
   ],
   "source": [
    "df.price.hist(bins = 100)"
   ]
  },
  {
   "cell_type": "markdown",
   "id": "d1ef3ba0",
   "metadata": {},
   "source": [
    "El histograma nos muestra que la distribución está sesgada hacia la izquierda, lo que quiere decir que existen muchos alojamientos que cobram poco con relación a los otros, mientras hay unos pocos alojamientos que cobran mucho. Esto puede afectar el desempeño del modelo, debido a que una gran cantidad de alojamientos se encuentran en un rango de precios, y nuestro modelo tartará de asignar algún valor de ese rango casi siempre, lo que lo hará fallar en los rangos de precio más elevados. Una solución común para este problema, que se presenta frecuentemente en el caso de precios del mercado inmoviliario, es realizar una transformación matemática denominada logaritmo. "
   ]
  },
  {
   "cell_type": "code",
   "execution_count": 173,
   "id": "0c1952b7",
   "metadata": {},
   "outputs": [],
   "source": [
    "df['price_log'] = np.log(df.price)"
   ]
  },
  {
   "cell_type": "code",
   "execution_count": 174,
   "id": "af8d6665",
   "metadata": {},
   "outputs": [
    {
     "data": {
      "text/plain": [
       "array([[<AxesSubplot:title={'center':'price_log'}>]], dtype=object)"
      ]
     },
     "execution_count": 174,
     "metadata": {},
     "output_type": "execute_result"
    },
    {
     "data": {
      "image/png": "[encoded data removed]",
      "text/plain": [
       "<Figure size 432x288 with 1 Axes>"
      ]
     },
     "metadata": {
      "needs_background": "light"
     },
     "output_type": "display_data"
    }
   ],
   "source": [
    "df.loc[:, ['price_log']].hist(bins = 100)"
   ]
  },
  {
   "cell_type": "markdown",
   "id": "37ae034c",
   "metadata": {},
   "source": [
    "Tras realizar la transformación, nos damos cuenta que la distribución se asemeja un poco más a la distribución normal."
   ]
  },
  {
   "cell_type": "markdown",
   "id": "e40f3022",
   "metadata": {},
   "source": [
    "### Variables independientes"
   ]
  },
  {
   "cell_type": "markdown",
   "id": "05941e9f",
   "metadata": {},
   "source": [
    "Las variables independientes son aquellas características que están relacionadas con la variable objetivo, y que nos permiten predecirla. Para escogerlas debemos emplear tanto el sentido común como los conceptos teóricos que nos permitan conocer que determina el precio de un alojamiento."
   ]
  },
  {
   "cell_type": "markdown",
   "id": "f336cbff",
   "metadata": {},
   "source": [
    "Seleccionamos las siguientes variables:\n",
    "\n",
    "- **neighbourhood_group**: Indica el lugar en el que están ubicados los alojamientos. (categórica)\n",
    "- **room_type**: Indica el tipo de alojamiento. (categórica)\n",
    "- **minimum_nights**: Mínimo de noches que pueden ser reservadas. (enteros)\n",
    "- **number_of_reviews**: Número de reseñas. (enteros)\n",
    "- **reviews_per_month**: Reseñas por mes. (flotante)\n",
    "- **availability_365**: Números al año de disponibilidad. (enteros)."
   ]
  },
  {
   "cell_type": "markdown",
   "id": "ec2c31aa",
   "metadata": {},
   "source": [
    "### Variables categóricas"
   ]
  },
  {
   "cell_type": "markdown",
   "id": "3367e5d8",
   "metadata": {},
   "source": [
    "Los modelos no admiten texto. Por lo que es necesario realizar alguna transformación previa para ingresarlas como datos numéricos. Las variables categóricas compuestas por texto, pueden ser codificadas asignando un número a cada opción. También pueden ser transformadas en variables [dummies](https://pandas.pydata.org/docs/reference/api/pandas.get_dummies.html), que asignan un valor de *1*, cuando una de las opciones están presentes o *0* cuando no lo están. Esta transformación implica crear tantas variables como opciones existan."
   ]
  },
  {
   "cell_type": "code",
   "execution_count": 175,
   "id": "9eb43c6f",
   "metadata": {},
   "outputs": [
    {
     "data": {
      "text/plain": [
       "Manhattan        16621\n",
       "Brooklyn         16430\n",
       "Queens            4572\n",
       "Bronx              874\n",
       "Staten Island      314\n",
       "Name: neighbourhood_group, dtype: int64"
      ]
     },
     "execution_count": 175,
     "metadata": {},
     "output_type": "execute_result"
    }
   ],
   "source": [
    "df['neighbourhood_group'].value_counts()"
   ]
  },
  {
   "cell_type": "code",
   "execution_count": 176,
   "id": "bd4ee2cd",
   "metadata": {},
   "outputs": [
    {
     "data": {
      "text/plain": [
       "Entire home/apt    20320\n",
       "Private room       17647\n",
       "Shared room          844\n",
       "Name: room_type, dtype: int64"
      ]
     },
     "execution_count": 176,
     "metadata": {},
     "output_type": "execute_result"
    }
   ],
   "source": [
    "df['room_type'].value_counts()"
   ]
  },
  {
   "cell_type": "code",
   "execution_count": 177,
   "id": "e35140f7",
   "metadata": {},
   "outputs": [],
   "source": [
    "variables_dummy = pd.get_dummies(df[['neighbourhood_group','room_type']])"
   ]
  },
  {
   "cell_type": "code",
   "execution_count": 178,
   "id": "cccb50d6",
   "metadata": {},
   "outputs": [
    {
     "data": {
      "text/html": [
       "<div>\n",
       "<style scoped>\n",
       "    .dataframe tbody tr th:only-of-type {\n",
       "        vertical-align: middle;\n",
       "    }\n",
       "\n",
       "    .dataframe tbody tr th {\n",
       "        vertical-align: top;\n",
       "    }\n",
       "\n",
       "    .dataframe thead th {\n",
       "        text-align: right;\n",
       "    }\n",
       "</style>\n",
       "<table border=\"1\" class=\"dataframe\">\n",
       "  <thead>\n",
       "    <tr style=\"text-align: right;\">\n",
       "      <th></th>\n",
       "      <th>neighbourhood_group_Bronx</th>\n",
       "      <th>neighbourhood_group_Brooklyn</th>\n",
       "      <th>neighbourhood_group_Manhattan</th>\n",
       "      <th>neighbourhood_group_Queens</th>\n",
       "      <th>neighbourhood_group_Staten Island</th>\n",
       "      <th>room_type_Entire home/apt</th>\n",
       "      <th>room_type_Private room</th>\n",
       "      <th>room_type_Shared room</th>\n",
       "    </tr>\n",
       "  </thead>\n",
       "  <tbody>\n",
       "    <tr>\n",
       "      <th>0</th>\n",
       "      <td>0</td>\n",
       "      <td>1</td>\n",
       "      <td>0</td>\n",
       "      <td>0</td>\n",
       "      <td>0</td>\n",
       "      <td>0</td>\n",
       "      <td>1</td>\n",
       "      <td>0</td>\n",
       "    </tr>\n",
       "    <tr>\n",
       "      <th>1</th>\n",
       "      <td>0</td>\n",
       "      <td>0</td>\n",
       "      <td>1</td>\n",
       "      <td>0</td>\n",
       "      <td>0</td>\n",
       "      <td>1</td>\n",
       "      <td>0</td>\n",
       "      <td>0</td>\n",
       "    </tr>\n",
       "    <tr>\n",
       "      <th>3</th>\n",
       "      <td>0</td>\n",
       "      <td>1</td>\n",
       "      <td>0</td>\n",
       "      <td>0</td>\n",
       "      <td>0</td>\n",
       "      <td>1</td>\n",
       "      <td>0</td>\n",
       "      <td>0</td>\n",
       "    </tr>\n",
       "    <tr>\n",
       "      <th>4</th>\n",
       "      <td>0</td>\n",
       "      <td>0</td>\n",
       "      <td>1</td>\n",
       "      <td>0</td>\n",
       "      <td>0</td>\n",
       "      <td>1</td>\n",
       "      <td>0</td>\n",
       "      <td>0</td>\n",
       "    </tr>\n",
       "    <tr>\n",
       "      <th>5</th>\n",
       "      <td>0</td>\n",
       "      <td>0</td>\n",
       "      <td>1</td>\n",
       "      <td>0</td>\n",
       "      <td>0</td>\n",
       "      <td>1</td>\n",
       "      <td>0</td>\n",
       "      <td>0</td>\n",
       "    </tr>\n",
       "  </tbody>\n",
       "</table>\n",
       "</div>"
      ],
      "text/plain": [
       "   neighbourhood_group_Bronx  neighbourhood_group_Brooklyn  \\\n",
       "0                          0                             1   \n",
       "1                          0                             0   \n",
       "3                          0                             1   \n",
       "4                          0                             0   \n",
       "5                          0                             0   \n",
       "\n",
       "   neighbourhood_group_Manhattan  neighbourhood_group_Queens  \\\n",
       "0                              0                           0   \n",
       "1                              1                           0   \n",
       "3                              0                           0   \n",
       "4                              1                           0   \n",
       "5                              1                           0   \n",
       "\n",
       "   neighbourhood_group_Staten Island  room_type_Entire home/apt  \\\n",
       "0                                  0                          0   \n",
       "1                                  0                          1   \n",
       "3                                  0                          1   \n",
       "4                                  0                          1   \n",
       "5                                  0                          1   \n",
       "\n",
       "   room_type_Private room  room_type_Shared room  \n",
       "0                       1                      0  \n",
       "1                       0                      0  \n",
       "3                       0                      0  \n",
       "4                       0                      0  \n",
       "5                       0                      0  "
      ]
     },
     "execution_count": 178,
     "metadata": {},
     "output_type": "execute_result"
    }
   ],
   "source": [
    "variables_dummy.head()"
   ]
  },
  {
   "cell_type": "markdown",
   "id": "89455bd5",
   "metadata": {},
   "source": [
    "Con esta transformación ya podemos construir nuestras series de variables. La variable dependiente suele denotarce con **y** y las variables dependientes con **X**."
   ]
  },
  {
   "cell_type": "code",
   "execution_count": 179,
   "id": "6d310b84",
   "metadata": {},
   "outputs": [],
   "source": [
    "y = df['price_log']"
   ]
  },
  {
   "cell_type": "markdown",
   "id": "3e562dd3",
   "metadata": {},
   "source": [
    "Para crear nuestro *set* de variables dependientes empleamos la función [concat](https://pandas.pydata.org/docs/reference/api/pandas.concat.html), que nos permite unir dos tablas con iguales dimenciones. El argumento *axis = 1* indica que deseamos unir las columnas."
   ]
  },
  {
   "cell_type": "code",
   "execution_count": 180,
   "id": "fa189f9f",
   "metadata": {},
   "outputs": [],
   "source": [
    "X = pd.concat([variables_dummy, df.loc[:,['minimum_nights','number_of_reviews','reviews_per_month','availability_365']]], axis=1)"
   ]
  },
  {
   "cell_type": "code",
   "execution_count": 181,
   "id": "f39e1968",
   "metadata": {},
   "outputs": [
    {
     "data": {
      "text/html": [
       "<div>\n",
       "<style scoped>\n",
       "    .dataframe tbody tr th:only-of-type {\n",
       "        vertical-align: middle;\n",
       "    }\n",
       "\n",
       "    .dataframe tbody tr th {\n",
       "        vertical-align: top;\n",
       "    }\n",
       "\n",
       "    .dataframe thead th {\n",
       "        text-align: right;\n",
       "    }\n",
       "</style>\n",
       "<table border=\"1\" class=\"dataframe\">\n",
       "  <thead>\n",
       "    <tr style=\"text-align: right;\">\n",
       "      <th></th>\n",
       "      <th>neighbourhood_group_Bronx</th>\n",
       "      <th>neighbourhood_group_Brooklyn</th>\n",
       "      <th>neighbourhood_group_Manhattan</th>\n",
       "      <th>neighbourhood_group_Queens</th>\n",
       "      <th>neighbourhood_group_Staten Island</th>\n",
       "      <th>room_type_Entire home/apt</th>\n",
       "      <th>room_type_Private room</th>\n",
       "      <th>room_type_Shared room</th>\n",
       "      <th>minimum_nights</th>\n",
       "      <th>number_of_reviews</th>\n",
       "      <th>reviews_per_month</th>\n",
       "      <th>availability_365</th>\n",
       "    </tr>\n",
       "  </thead>\n",
       "  <tbody>\n",
       "    <tr>\n",
       "      <th>0</th>\n",
       "      <td>0</td>\n",
       "      <td>1</td>\n",
       "      <td>0</td>\n",
       "      <td>0</td>\n",
       "      <td>0</td>\n",
       "      <td>0</td>\n",
       "      <td>1</td>\n",
       "      <td>0</td>\n",
       "      <td>1</td>\n",
       "      <td>9</td>\n",
       "      <td>0.21</td>\n",
       "      <td>365</td>\n",
       "    </tr>\n",
       "    <tr>\n",
       "      <th>1</th>\n",
       "      <td>0</td>\n",
       "      <td>0</td>\n",
       "      <td>1</td>\n",
       "      <td>0</td>\n",
       "      <td>0</td>\n",
       "      <td>1</td>\n",
       "      <td>0</td>\n",
       "      <td>0</td>\n",
       "      <td>1</td>\n",
       "      <td>45</td>\n",
       "      <td>0.38</td>\n",
       "      <td>355</td>\n",
       "    </tr>\n",
       "    <tr>\n",
       "      <th>3</th>\n",
       "      <td>0</td>\n",
       "      <td>1</td>\n",
       "      <td>0</td>\n",
       "      <td>0</td>\n",
       "      <td>0</td>\n",
       "      <td>1</td>\n",
       "      <td>0</td>\n",
       "      <td>0</td>\n",
       "      <td>1</td>\n",
       "      <td>270</td>\n",
       "      <td>4.64</td>\n",
       "      <td>194</td>\n",
       "    </tr>\n",
       "    <tr>\n",
       "      <th>4</th>\n",
       "      <td>0</td>\n",
       "      <td>0</td>\n",
       "      <td>1</td>\n",
       "      <td>0</td>\n",
       "      <td>0</td>\n",
       "      <td>1</td>\n",
       "      <td>0</td>\n",
       "      <td>0</td>\n",
       "      <td>10</td>\n",
       "      <td>9</td>\n",
       "      <td>0.10</td>\n",
       "      <td>0</td>\n",
       "    </tr>\n",
       "    <tr>\n",
       "      <th>5</th>\n",
       "      <td>0</td>\n",
       "      <td>0</td>\n",
       "      <td>1</td>\n",
       "      <td>0</td>\n",
       "      <td>0</td>\n",
       "      <td>1</td>\n",
       "      <td>0</td>\n",
       "      <td>0</td>\n",
       "      <td>3</td>\n",
       "      <td>74</td>\n",
       "      <td>0.59</td>\n",
       "      <td>129</td>\n",
       "    </tr>\n",
       "  </tbody>\n",
       "</table>\n",
       "</div>"
      ],
      "text/plain": [
       "   neighbourhood_group_Bronx  neighbourhood_group_Brooklyn  \\\n",
       "0                          0                             1   \n",
       "1                          0                             0   \n",
       "3                          0                             1   \n",
       "4                          0                             0   \n",
       "5                          0                             0   \n",
       "\n",
       "   neighbourhood_group_Manhattan  neighbourhood_group_Queens  \\\n",
       "0                              0                           0   \n",
       "1                              1                           0   \n",
       "3                              0                           0   \n",
       "4                              1                           0   \n",
       "5                              1                           0   \n",
       "\n",
       "   neighbourhood_group_Staten Island  room_type_Entire home/apt  \\\n",
       "0                                  0                          0   \n",
       "1                                  0                          1   \n",
       "3                                  0                          1   \n",
       "4                                  0                          1   \n",
       "5                                  0                          1   \n",
       "\n",
       "   room_type_Private room  room_type_Shared room  minimum_nights  \\\n",
       "0                       1                      0               1   \n",
       "1                       0                      0               1   \n",
       "3                       0                      0               1   \n",
       "4                       0                      0              10   \n",
       "5                       0                      0               3   \n",
       "\n",
       "   number_of_reviews  reviews_per_month  availability_365  \n",
       "0                  9               0.21               365  \n",
       "1                 45               0.38               355  \n",
       "3                270               4.64               194  \n",
       "4                  9               0.10                 0  \n",
       "5                 74               0.59               129  "
      ]
     },
     "execution_count": 181,
     "metadata": {},
     "output_type": "execute_result"
    }
   ],
   "source": [
    "X.head()"
   ]
  },
  {
   "cell_type": "markdown",
   "id": "19d15071",
   "metadata": {},
   "source": [
    "Ahora que hemos decidido cuál será nuestra variable dependientes, es decir la que deseamos predecir, y cuales serán nuestras variables independientes, es necesario analizar que tan correlacionadas están. La correlación es una medida que nos permite estimar que tan relacionadas están dos variables."
   ]
  },
  {
   "cell_type": "code",
   "execution_count": 182,
   "id": "cc513379",
   "metadata": {},
   "outputs": [
    {
     "data": {
      "text/html": [
       "<div>\n",
       "<style scoped>\n",
       "    .dataframe tbody tr th:only-of-type {\n",
       "        vertical-align: middle;\n",
       "    }\n",
       "\n",
       "    .dataframe tbody tr th {\n",
       "        vertical-align: top;\n",
       "    }\n",
       "\n",
       "    .dataframe thead th {\n",
       "        text-align: right;\n",
       "    }\n",
       "</style>\n",
       "<table border=\"1\" class=\"dataframe\">\n",
       "  <thead>\n",
       "    <tr style=\"text-align: right;\">\n",
       "      <th></th>\n",
       "      <th>neighbourhood_group_Bronx</th>\n",
       "      <th>neighbourhood_group_Brooklyn</th>\n",
       "      <th>neighbourhood_group_Manhattan</th>\n",
       "      <th>neighbourhood_group_Queens</th>\n",
       "      <th>neighbourhood_group_Staten Island</th>\n",
       "      <th>room_type_Entire home/apt</th>\n",
       "      <th>room_type_Private room</th>\n",
       "      <th>room_type_Shared room</th>\n",
       "      <th>minimum_nights</th>\n",
       "      <th>number_of_reviews</th>\n",
       "      <th>reviews_per_month</th>\n",
       "      <th>availability_365</th>\n",
       "      <th>price_log</th>\n",
       "    </tr>\n",
       "  </thead>\n",
       "  <tbody>\n",
       "    <tr>\n",
       "      <th>neighbourhood_group_Bronx</th>\n",
       "      <td>1.000000</td>\n",
       "      <td>-0.130048</td>\n",
       "      <td>-0.131363</td>\n",
       "      <td>-0.055465</td>\n",
       "      <td>-0.013708</td>\n",
       "      <td>-0.052016</td>\n",
       "      <td>0.043805</td>\n",
       "      <td>0.028569</td>\n",
       "      <td>-0.016880</td>\n",
       "      <td>0.009664</td>\n",
       "      <td>0.041968</td>\n",
       "      <td>0.065941</td>\n",
       "      <td>-0.113911</td>\n",
       "    </tr>\n",
       "    <tr>\n",
       "      <th>neighbourhood_group_Brooklyn</th>\n",
       "      <td>-0.130048</td>\n",
       "      <td>1.000000</td>\n",
       "      <td>-0.741530</td>\n",
       "      <td>-0.313092</td>\n",
       "      <td>-0.077380</td>\n",
       "      <td>-0.046374</td>\n",
       "      <td>0.053771</td>\n",
       "      <td>-0.024775</td>\n",
       "      <td>-0.027112</td>\n",
       "      <td>0.005031</td>\n",
       "      <td>-0.045882</td>\n",
       "      <td>-0.059855</td>\n",
       "      <td>-0.166044</td>\n",
       "    </tr>\n",
       "    <tr>\n",
       "      <th>neighbourhood_group_Manhattan</th>\n",
       "      <td>-0.131363</td>\n",
       "      <td>-0.741530</td>\n",
       "      <td>1.000000</td>\n",
       "      <td>-0.316259</td>\n",
       "      <td>-0.078163</td>\n",
       "      <td>0.131349</td>\n",
       "      <td>-0.131176</td>\n",
       "      <td>-0.001945</td>\n",
       "      <td>0.056972</td>\n",
       "      <td>-0.035307</td>\n",
       "      <td>-0.052219</td>\n",
       "      <td>-0.037025</td>\n",
       "      <td>0.332156</td>\n",
       "    </tr>\n",
       "    <tr>\n",
       "      <th>neighbourhood_group_Queens</th>\n",
       "      <td>-0.055465</td>\n",
       "      <td>-0.313092</td>\n",
       "      <td>-0.316259</td>\n",
       "      <td>1.000000</td>\n",
       "      <td>-0.033002</td>\n",
       "      <td>-0.104296</td>\n",
       "      <td>0.096171</td>\n",
       "      <td>0.028810</td>\n",
       "      <td>-0.034594</td>\n",
       "      <td>0.038146</td>\n",
       "      <td>0.123699</td>\n",
       "      <td>0.100636</td>\n",
       "      <td>-0.188381</td>\n",
       "    </tr>\n",
       "    <tr>\n",
       "      <th>neighbourhood_group_Staten Island</th>\n",
       "      <td>-0.013708</td>\n",
       "      <td>-0.077380</td>\n",
       "      <td>-0.078163</td>\n",
       "      <td>-0.033002</td>\n",
       "      <td>1.000000</td>\n",
       "      <td>-0.008292</td>\n",
       "      <td>0.009373</td>\n",
       "      <td>-0.003606</td>\n",
       "      <td>-0.012715</td>\n",
       "      <td>0.013995</td>\n",
       "      <td>0.026845</td>\n",
       "      <td>0.063278</td>\n",
       "      <td>-0.052354</td>\n",
       "    </tr>\n",
       "    <tr>\n",
       "      <th>room_type_Entire home/apt</th>\n",
       "      <td>-0.052016</td>\n",
       "      <td>-0.046374</td>\n",
       "      <td>0.131349</td>\n",
       "      <td>-0.104296</td>\n",
       "      <td>-0.008292</td>\n",
       "      <td>1.000000</td>\n",
       "      <td>-0.957234</td>\n",
       "      <td>-0.156297</td>\n",
       "      <td>0.073306</td>\n",
       "      <td>-0.016361</td>\n",
       "      <td>-0.041405</td>\n",
       "      <td>-0.028516</td>\n",
       "      <td>0.634966</td>\n",
       "    </tr>\n",
       "    <tr>\n",
       "      <th>room_type_Private room</th>\n",
       "      <td>0.043805</td>\n",
       "      <td>0.053771</td>\n",
       "      <td>-0.131176</td>\n",
       "      <td>0.096171</td>\n",
       "      <td>0.009373</td>\n",
       "      <td>-0.957234</td>\n",
       "      <td>1.000000</td>\n",
       "      <td>-0.136146</td>\n",
       "      <td>-0.069682</td>\n",
       "      <td>0.022285</td>\n",
       "      <td>0.038889</td>\n",
       "      <td>0.011424</td>\n",
       "      <td>-0.584302</td>\n",
       "    </tr>\n",
       "    <tr>\n",
       "      <th>room_type_Shared room</th>\n",
       "      <td>0.028569</td>\n",
       "      <td>-0.024775</td>\n",
       "      <td>-0.001945</td>\n",
       "      <td>0.028810</td>\n",
       "      <td>-0.003606</td>\n",
       "      <td>-0.156297</td>\n",
       "      <td>-0.136146</td>\n",
       "      <td>1.000000</td>\n",
       "      <td>-0.013127</td>\n",
       "      <td>-0.020055</td>\n",
       "      <td>0.009019</td>\n",
       "      <td>0.058646</td>\n",
       "      <td>-0.179502</td>\n",
       "    </tr>\n",
       "    <tr>\n",
       "      <th>minimum_nights</th>\n",
       "      <td>-0.016880</td>\n",
       "      <td>-0.027112</td>\n",
       "      <td>0.056972</td>\n",
       "      <td>-0.034594</td>\n",
       "      <td>-0.012715</td>\n",
       "      <td>0.073306</td>\n",
       "      <td>-0.069682</td>\n",
       "      <td>-0.013127</td>\n",
       "      <td>1.000000</td>\n",
       "      <td>-0.069312</td>\n",
       "      <td>-0.121653</td>\n",
       "      <td>0.101609</td>\n",
       "      <td>0.019322</td>\n",
       "    </tr>\n",
       "    <tr>\n",
       "      <th>number_of_reviews</th>\n",
       "      <td>0.009664</td>\n",
       "      <td>0.005031</td>\n",
       "      <td>-0.035307</td>\n",
       "      <td>0.038146</td>\n",
       "      <td>0.013995</td>\n",
       "      <td>-0.016361</td>\n",
       "      <td>0.022285</td>\n",
       "      <td>-0.020055</td>\n",
       "      <td>-0.069312</td>\n",
       "      <td>1.000000</td>\n",
       "      <td>0.549594</td>\n",
       "      <td>0.193363</td>\n",
       "      <td>-0.024615</td>\n",
       "    </tr>\n",
       "    <tr>\n",
       "      <th>reviews_per_month</th>\n",
       "      <td>0.041968</td>\n",
       "      <td>-0.045882</td>\n",
       "      <td>-0.052219</td>\n",
       "      <td>0.123699</td>\n",
       "      <td>0.026845</td>\n",
       "      <td>-0.041405</td>\n",
       "      <td>0.038889</td>\n",
       "      <td>0.009019</td>\n",
       "      <td>-0.121653</td>\n",
       "      <td>0.549594</td>\n",
       "      <td>1.000000</td>\n",
       "      <td>0.185835</td>\n",
       "      <td>-0.039404</td>\n",
       "    </tr>\n",
       "    <tr>\n",
       "      <th>availability_365</th>\n",
       "      <td>0.065941</td>\n",
       "      <td>-0.059855</td>\n",
       "      <td>-0.037025</td>\n",
       "      <td>0.100636</td>\n",
       "      <td>0.063278</td>\n",
       "      <td>-0.028516</td>\n",
       "      <td>0.011424</td>\n",
       "      <td>0.058646</td>\n",
       "      <td>0.101609</td>\n",
       "      <td>0.193363</td>\n",
       "      <td>0.185835</td>\n",
       "      <td>1.000000</td>\n",
       "      <td>0.077677</td>\n",
       "    </tr>\n",
       "    <tr>\n",
       "      <th>price_log</th>\n",
       "      <td>-0.113911</td>\n",
       "      <td>-0.166044</td>\n",
       "      <td>0.332156</td>\n",
       "      <td>-0.188381</td>\n",
       "      <td>-0.052354</td>\n",
       "      <td>0.634966</td>\n",
       "      <td>-0.584302</td>\n",
       "      <td>-0.179502</td>\n",
       "      <td>0.019322</td>\n",
       "      <td>-0.024615</td>\n",
       "      <td>-0.039404</td>\n",
       "      <td>0.077677</td>\n",
       "      <td>1.000000</td>\n",
       "    </tr>\n",
       "  </tbody>\n",
       "</table>\n",
       "</div>"
      ],
      "text/plain": [
       "                                   neighbourhood_group_Bronx  \\\n",
       "neighbourhood_group_Bronx                           1.000000   \n",
       "neighbourhood_group_Brooklyn                       -0.130048   \n",
       "neighbourhood_group_Manhattan                      -0.131363   \n",
       "neighbourhood_group_Queens                         -0.055465   \n",
       "neighbourhood_group_Staten Island                  -0.013708   \n",
       "room_type_Entire home/apt                          -0.052016   \n",
       "room_type_Private room                              0.043805   \n",
       "room_type_Shared room                               0.028569   \n",
       "minimum_nights                                     -0.016880   \n",
       "number_of_reviews                                   0.009664   \n",
       "reviews_per_month                                   0.041968   \n",
       "availability_365                                    0.065941   \n",
       "price_log                                          -0.113911   \n",
       "\n",
       "                                   neighbourhood_group_Brooklyn  \\\n",
       "neighbourhood_group_Bronx                             -0.130048   \n",
       "neighbourhood_group_Brooklyn                           1.000000   \n",
       "neighbourhood_group_Manhattan                         -0.741530   \n",
       "neighbourhood_group_Queens                            -0.313092   \n",
       "neighbourhood_group_Staten Island                     -0.077380   \n",
       "room_type_Entire home/apt                             -0.046374   \n",
       "room_type_Private room                                 0.053771   \n",
       "room_type_Shared room                                 -0.024775   \n",
       "minimum_nights                                        -0.027112   \n",
       "number_of_reviews                                      0.005031   \n",
       "reviews_per_month                                     -0.045882   \n",
       "availability_365                                      -0.059855   \n",
       "price_log                                             -0.166044   \n",
       "\n",
       "                                   neighbourhood_group_Manhattan  \\\n",
       "neighbourhood_group_Bronx                              -0.131363   \n",
       "neighbourhood_group_Brooklyn                           -0.741530   \n",
       "neighbourhood_group_Manhattan                           1.000000   \n",
       "neighbourhood_group_Queens                             -0.316259   \n",
       "neighbourhood_group_Staten Island                      -0.078163   \n",
       "room_type_Entire home/apt                               0.131349   \n",
       "room_type_Private room                                 -0.131176   \n",
       "room_type_Shared room                                  -0.001945   \n",
       "minimum_nights                                          0.056972   \n",
       "number_of_reviews                                      -0.035307   \n",
       "reviews_per_month                                      -0.052219   \n",
       "availability_365                                       -0.037025   \n",
       "price_log                                               0.332156   \n",
       "\n",
       "                                   neighbourhood_group_Queens  \\\n",
       "neighbourhood_group_Bronx                           -0.055465   \n",
       "neighbourhood_group_Brooklyn                        -0.313092   \n",
       "neighbourhood_group_Manhattan                       -0.316259   \n",
       "neighbourhood_group_Queens                           1.000000   \n",
       "neighbourhood_group_Staten Island                   -0.033002   \n",
       "room_type_Entire home/apt                           -0.104296   \n",
       "room_type_Private room                               0.096171   \n",
       "room_type_Shared room                                0.028810   \n",
       "minimum_nights                                      -0.034594   \n",
       "number_of_reviews                                    0.038146   \n",
       "reviews_per_month                                    0.123699   \n",
       "availability_365                                     0.100636   \n",
       "price_log                                           -0.188381   \n",
       "\n",
       "                                   neighbourhood_group_Staten Island  \\\n",
       "neighbourhood_group_Bronx                                  -0.013708   \n",
       "neighbourhood_group_Brooklyn                               -0.077380   \n",
       "neighbourhood_group_Manhattan                              -0.078163   \n",
       "neighbourhood_group_Queens                                 -0.033002   \n",
       "neighbourhood_group_Staten Island                           1.000000   \n",
       "room_type_Entire home/apt                                  -0.008292   \n",
       "room_type_Private room                                      0.009373   \n",
       "room_type_Shared room                                      -0.003606   \n",
       "minimum_nights                                             -0.012715   \n",
       "number_of_reviews                                           0.013995   \n",
       "reviews_per_month                                           0.026845   \n",
       "availability_365                                            0.063278   \n",
       "price_log                                                  -0.052354   \n",
       "\n",
       "                                   room_type_Entire home/apt  \\\n",
       "neighbourhood_group_Bronx                          -0.052016   \n",
       "neighbourhood_group_Brooklyn                       -0.046374   \n",
       "neighbourhood_group_Manhattan                       0.131349   \n",
       "neighbourhood_group_Queens                         -0.104296   \n",
       "neighbourhood_group_Staten Island                  -0.008292   \n",
       "room_type_Entire home/apt                           1.000000   \n",
       "room_type_Private room                             -0.957234   \n",
       "room_type_Shared room                              -0.156297   \n",
       "minimum_nights                                      0.073306   \n",
       "number_of_reviews                                  -0.016361   \n",
       "reviews_per_month                                  -0.041405   \n",
       "availability_365                                   -0.028516   \n",
       "price_log                                           0.634966   \n",
       "\n",
       "                                   room_type_Private room  \\\n",
       "neighbourhood_group_Bronx                        0.043805   \n",
       "neighbourhood_group_Brooklyn                     0.053771   \n",
       "neighbourhood_group_Manhattan                   -0.131176   \n",
       "neighbourhood_group_Queens                       0.096171   \n",
       "neighbourhood_group_Staten Island                0.009373   \n",
       "room_type_Entire home/apt                       -0.957234   \n",
       "room_type_Private room                           1.000000   \n",
       "room_type_Shared room                           -0.136146   \n",
       "minimum_nights                                  -0.069682   \n",
       "number_of_reviews                                0.022285   \n",
       "reviews_per_month                                0.038889   \n",
       "availability_365                                 0.011424   \n",
       "price_log                                       -0.584302   \n",
       "\n",
       "                                   room_type_Shared room  minimum_nights  \\\n",
       "neighbourhood_group_Bronx                       0.028569       -0.016880   \n",
       "neighbourhood_group_Brooklyn                   -0.024775       -0.027112   \n",
       "neighbourhood_group_Manhattan                  -0.001945        0.056972   \n",
       "neighbourhood_group_Queens                      0.028810       -0.034594   \n",
       "neighbourhood_group_Staten Island              -0.003606       -0.012715   \n",
       "room_type_Entire home/apt                      -0.156297        0.073306   \n",
       "room_type_Private room                         -0.136146       -0.069682   \n",
       "room_type_Shared room                           1.000000       -0.013127   \n",
       "minimum_nights                                 -0.013127        1.000000   \n",
       "number_of_reviews                              -0.020055       -0.069312   \n",
       "reviews_per_month                               0.009019       -0.121653   \n",
       "availability_365                                0.058646        0.101609   \n",
       "price_log                                      -0.179502        0.019322   \n",
       "\n",
       "                                   number_of_reviews  reviews_per_month  \\\n",
       "neighbourhood_group_Bronx                   0.009664           0.041968   \n",
       "neighbourhood_group_Brooklyn                0.005031          -0.045882   \n",
       "neighbourhood_group_Manhattan              -0.035307          -0.052219   \n",
       "neighbourhood_group_Queens                  0.038146           0.123699   \n",
       "neighbourhood_group_Staten Island           0.013995           0.026845   \n",
       "room_type_Entire home/apt                  -0.016361          -0.041405   \n",
       "room_type_Private room                      0.022285           0.038889   \n",
       "room_type_Shared room                      -0.020055           0.009019   \n",
       "minimum_nights                             -0.069312          -0.121653   \n",
       "number_of_reviews                           1.000000           0.549594   \n",
       "reviews_per_month                           0.549594           1.000000   \n",
       "availability_365                            0.193363           0.185835   \n",
       "price_log                                  -0.024615          -0.039404   \n",
       "\n",
       "                                   availability_365  price_log  \n",
       "neighbourhood_group_Bronx                  0.065941  -0.113911  \n",
       "neighbourhood_group_Brooklyn              -0.059855  -0.166044  \n",
       "neighbourhood_group_Manhattan             -0.037025   0.332156  \n",
       "neighbourhood_group_Queens                 0.100636  -0.188381  \n",
       "neighbourhood_group_Staten Island          0.063278  -0.052354  \n",
       "room_type_Entire home/apt                 -0.028516   0.634966  \n",
       "room_type_Private room                     0.011424  -0.584302  \n",
       "room_type_Shared room                      0.058646  -0.179502  \n",
       "minimum_nights                             0.101609   0.019322  \n",
       "number_of_reviews                          0.193363  -0.024615  \n",
       "reviews_per_month                          0.185835  -0.039404  \n",
       "availability_365                           1.000000   0.077677  \n",
       "price_log                                  0.077677   1.000000  "
      ]
     },
     "execution_count": 182,
     "metadata": {},
     "output_type": "execute_result"
    }
   ],
   "source": [
    "pd.concat([X,y],axis=1).corr()"
   ]
  },
  {
   "cell_type": "markdown",
   "id": "c1896875",
   "metadata": {},
   "source": [
    "La matriz de correlación nos permite estimar si existe relación aparente entre dos variables. Los valores cercanos a uno indican una alta correlación, mientras que los cercanos a cero indican que aparentemente las variables no están relacionadas. El signo indica si la relación entre las variables es directa cuando es positivo, o inversa, cuando es negativo.\n",
    "En ocaciones una gráfica de temperatura de color nos permite identificar de forma más fácil si algunas de las variables estan correlacionadas."
   ]
  },
  {
   "cell_type": "code",
   "execution_count": 183,
   "id": "e5da734f",
   "metadata": {},
   "outputs": [
    {
     "data": {
      "text/plain": [
       "<AxesSubplot:>"
      ]
     },
     "execution_count": 183,
     "metadata": {},
     "output_type": "execute_result"
    },
    {
     "data": {
      "image/png": "[encoded data removed]",
      "text/plain": [
       "<Figure size 432x288 with 2 Axes>"
      ]
     },
     "metadata": {
      "needs_background": "light"
     },
     "output_type": "display_data"
    }
   ],
   "source": [
    "sns.heatmap(np.abs(pd.concat([X,y],axis=1).corr()), linewidth=0.1, square=True, cmap='magma')"
   ]
  },
  {
   "cell_type": "markdown",
   "id": "dc684037",
   "metadata": {},
   "source": [
    "El correlograma muestra como en general las variables no están tan relacionadas entre si, con excepción quiza de *Entire home/apt* y *Private room*, que presentan una correlación de 0.953470, pero considerando que ambas provienen de una variable categórica es razonable que estén relacionadas. Nos quedaremos únicamente con *Entire home/apt* para ajustar nuestro modelo."
   ]
  },
  {
   "cell_type": "code",
   "execution_count": 184,
   "id": "c25feb39",
   "metadata": {},
   "outputs": [
    {
     "data": {
      "text/plain": [
       "Index(['neighbourhood_group_Bronx', 'neighbourhood_group_Brooklyn',\n",
       "       'neighbourhood_group_Manhattan', 'neighbourhood_group_Queens',\n",
       "       'neighbourhood_group_Staten Island', 'room_type_Entire home/apt',\n",
       "       'room_type_Private room', 'room_type_Shared room', 'minimum_nights',\n",
       "       'number_of_reviews', 'reviews_per_month', 'availability_365'],\n",
       "      dtype='object')"
      ]
     },
     "execution_count": 184,
     "metadata": {},
     "output_type": "execute_result"
    }
   ],
   "source": [
    "X.columns"
   ]
  },
  {
   "cell_type": "code",
   "execution_count": 185,
   "id": "d0c5d202",
   "metadata": {},
   "outputs": [],
   "source": [
    "X = X.loc[:, X.columns != 'room_type_Private room']  \n",
    "X = X.loc[:, X.columns != 'neighbourhood_group_Brooklyn']"
   ]
  },
  {
   "cell_type": "code",
   "execution_count": 186,
   "id": "c8cd3d6e",
   "metadata": {},
   "outputs": [
    {
     "data": {
      "text/plain": [
       "<AxesSubplot:>"
      ]
     },
     "execution_count": 186,
     "metadata": {},
     "output_type": "execute_result"
    },
    {
     "data": {
      "image/png": "[encoded data removed]",
      "text/plain": [
       "<Figure size 432x288 with 2 Axes>"
      ]
     },
     "metadata": {
      "needs_background": "light"
     },
     "output_type": "display_data"
    }
   ],
   "source": [
    "sns.heatmap(np.abs(pd.concat([X,y],axis=1).corr()), linewidth=0.1, square=True, cmap='magma')"
   ]
  },
  {
   "cell_type": "markdown",
   "id": "82567d4a",
   "metadata": {},
   "source": [
    "## Train y Test"
   ]
  },
  {
   "cell_type": "markdown",
   "id": "83a96868",
   "metadata": {},
   "source": [
    "Ya que hemos seleccionado las variables, el siguiente paso es dividirlas en las bases de entrenamiento y de prueba. El modelo se ajusta en la base de entrenamiento *traning set*, y se evalúa en la base de prueba *test set*. Esto con el fin de no predisponer el modelo, y evaluar sobre datos que aún no han sido vistos por el modelo. Regularmente se emplea el 80% de los datos para el *training set* y el 20% restante para el *test set*. \n",
    "\n",
    "Para realizar esta partición de forma aleatoria, emplearemos la función *train_test_split* de la librería *sklearn*."
   ]
  },
  {
   "cell_type": "code",
   "execution_count": 187,
   "id": "73b2c6b4",
   "metadata": {},
   "outputs": [],
   "source": [
    "X_train, X_test, y_train, y_test = train_test_split(X, y)"
   ]
  },
  {
   "cell_type": "code",
   "execution_count": 188,
   "id": "35cd75af",
   "metadata": {},
   "outputs": [
    {
     "data": {
      "text/plain": [
       "(29108, 10)"
      ]
     },
     "execution_count": 188,
     "metadata": {},
     "output_type": "execute_result"
    }
   ],
   "source": [
    "X_train.shape"
   ]
  },
  {
   "cell_type": "code",
   "execution_count": 189,
   "id": "e8830d5f",
   "metadata": {},
   "outputs": [
    {
     "data": {
      "text/plain": [
       "(29108,)"
      ]
     },
     "execution_count": 189,
     "metadata": {},
     "output_type": "execute_result"
    }
   ],
   "source": [
    "y_train.shape"
   ]
  },
  {
   "cell_type": "code",
   "execution_count": 190,
   "id": "ae853ccf",
   "metadata": {},
   "outputs": [
    {
     "data": {
      "text/plain": [
       "(9703, 10)"
      ]
     },
     "execution_count": 190,
     "metadata": {},
     "output_type": "execute_result"
    }
   ],
   "source": [
    "X_test.shape"
   ]
  },
  {
   "cell_type": "markdown",
   "id": "ad5e8ea8",
   "metadata": {},
   "source": [
    "## Creación del modelo"
   ]
  },
  {
   "cell_type": "markdown",
   "id": "f5a0b9cc",
   "metadata": {},
   "source": [
    "Ahora que ya hemos seleccionado y preparado nuestras variables objetivo e independientes, el siguiente punto es crear un objeto con el modelo que vamos a emplear. Empezaremos con un modelo de regresión lineal."
   ]
  },
  {
   "cell_type": "code",
   "execution_count": 191,
   "id": "c617df05",
   "metadata": {},
   "outputs": [],
   "source": [
    "lm = LinearRegression()"
   ]
  },
  {
   "cell_type": "markdown",
   "id": "b7d7dcc5",
   "metadata": {},
   "source": [
    "Después empleamos la *trining set* para ajustar el modelo."
   ]
  },
  {
   "cell_type": "code",
   "execution_count": 192,
   "id": "308587b6",
   "metadata": {},
   "outputs": [
    {
     "data": {
      "text/plain": [
       "LinearRegression()"
      ]
     },
     "execution_count": 192,
     "metadata": {},
     "output_type": "execute_result"
    }
   ],
   "source": [
    "lm.fit(X_train, y_train)"
   ]
  },
  {
   "cell_type": "markdown",
   "id": "a0264a54",
   "metadata": {},
   "source": [
    "Los coeficientes del modelo se alojan en la *property coef_*."
   ]
  },
  {
   "cell_type": "code",
   "execution_count": 193,
   "id": "2796aa8f",
   "metadata": {},
   "outputs": [
    {
     "data": {
      "text/plain": [
       "array([-2.82121384e-01,  3.03116971e-01, -1.46253639e-01, -3.03598242e-01,\n",
       "        7.76521685e-01, -4.27164230e-01, -2.21086480e-03, -4.74752278e-04,\n",
       "       -9.23414391e-04,  6.83493855e-04])"
      ]
     },
     "execution_count": 193,
     "metadata": {},
     "output_type": "execute_result"
    }
   ],
   "source": [
    "lm.coef_"
   ]
  },
  {
   "cell_type": "markdown",
   "id": "f756786a",
   "metadata": {},
   "source": [
    "Ya que tenemos la predicción del modelo emplearemos el *test set*  para saber que tan bien ajustó el modelo. Los modelos de regresión lineal se evaluán empleando la métrica de $R^2$. Entre más cercano a uno se encuentre este parámetro, mejor capacidad de predicción tendrá el modelo. "
   ]
  },
  {
   "cell_type": "code",
   "execution_count": 194,
   "id": "fb7b1c37",
   "metadata": {},
   "outputs": [
    {
     "data": {
      "text/plain": [
       "0.5065975230933439"
      ]
     },
     "execution_count": 194,
     "metadata": {},
     "output_type": "execute_result"
    }
   ],
   "source": [
    "lm.score(X_test, y_test)"
   ]
  },
  {
   "cell_type": "code",
   "execution_count": 195,
   "id": "893f424c",
   "metadata": {},
   "outputs": [
    {
     "data": {
      "text/plain": [
       "0.4953854094668757"
      ]
     },
     "execution_count": 195,
     "metadata": {},
     "output_type": "execute_result"
    }
   ],
   "source": [
    "lm.score(X_train, y_train)"
   ]
  },
  {
   "cell_type": "raw",
   "id": "38b21edc",
   "metadata": {},
   "source": [
    "Probaremos otro modelo, en este caso una regresión lineal penalizada. La cual emplea un método de regularización para reducir la importancia de algunas variables."
   ]
  },
  {
   "cell_type": "code",
   "execution_count": 196,
   "id": "91d559ab",
   "metadata": {},
   "outputs": [],
   "source": [
    "rm = Ridge(alpha=1)"
   ]
  },
  {
   "cell_type": "code",
   "execution_count": 197,
   "id": "0c9c841f",
   "metadata": {},
   "outputs": [
    {
     "data": {
      "text/plain": [
       "Ridge(alpha=1)"
      ]
     },
     "execution_count": 197,
     "metadata": {},
     "output_type": "execute_result"
    }
   ],
   "source": [
    "rm.fit(X_train, y_train)"
   ]
  },
  {
   "cell_type": "code",
   "execution_count": 198,
   "id": "380ab988",
   "metadata": {},
   "outputs": [
    {
     "data": {
      "text/plain": [
       "0.5065936679692502"
      ]
     },
     "execution_count": 198,
     "metadata": {},
     "output_type": "execute_result"
    }
   ],
   "source": [
    "rm.score(X_test, y_test)"
   ]
  },
  {
   "cell_type": "code",
   "execution_count": 199,
   "id": "6d0833b7",
   "metadata": {},
   "outputs": [
    {
     "data": {
      "text/plain": [
       "0.4953853400082826"
      ]
     },
     "execution_count": 199,
     "metadata": {},
     "output_type": "execute_result"
    }
   ],
   "source": [
    "rm.score(X_train, y_train)"
   ]
  },
  {
   "cell_type": "markdown",
   "id": "406ba123",
   "metadata": {},
   "source": [
    "Probamos una regreción lineal con penalización y sin embargo el score no mejoró significativamente. Por lo que nos quedamos con los resultados de la regresión lineal. Finalmente probaremos un modelo del tipo árbol de desición, el cuál además es capaz de indicarnos la importancia de cada *feature* para predecir el precio."
   ]
  },
  {
   "cell_type": "code",
   "execution_count": 200,
   "id": "fcf72548",
   "metadata": {},
   "outputs": [],
   "source": [
    "tree = DecisionTreeRegressor(max_depth=4, random_state=0)"
   ]
  },
  {
   "cell_type": "code",
   "execution_count": 201,
   "id": "bcb86c13",
   "metadata": {},
   "outputs": [
    {
     "data": {
      "text/plain": [
       "DecisionTreeRegressor(max_depth=4, random_state=0)"
      ]
     },
     "execution_count": 201,
     "metadata": {},
     "output_type": "execute_result"
    }
   ],
   "source": [
    "tree.fit(X_train, y_train)"
   ]
  },
  {
   "cell_type": "code",
   "execution_count": 202,
   "id": "09eb633b",
   "metadata": {},
   "outputs": [
    {
     "data": {
      "text/plain": [
       "0.5012207908454442"
      ]
     },
     "execution_count": 202,
     "metadata": {},
     "output_type": "execute_result"
    }
   ],
   "source": [
    "tree.score(X_test, y_test)"
   ]
  },
  {
   "cell_type": "markdown",
   "id": "8b4062c2",
   "metadata": {},
   "source": [
    "## Resultados"
   ]
  },
  {
   "cell_type": "code",
   "execution_count": 203,
   "id": "6f7293e7",
   "metadata": {},
   "outputs": [
    {
     "data": {
      "text/plain": [
       "Index(['neighbourhood_group_Bronx', 'neighbourhood_group_Manhattan',\n",
       "       'neighbourhood_group_Queens', 'neighbourhood_group_Staten Island',\n",
       "       'room_type_Entire home/apt', 'room_type_Shared room', 'minimum_nights',\n",
       "       'number_of_reviews', 'reviews_per_month', 'availability_365'],\n",
       "      dtype='object')"
      ]
     },
     "execution_count": 203,
     "metadata": {},
     "output_type": "execute_result"
    }
   ],
   "source": [
    "X.columns"
   ]
  },
  {
   "cell_type": "markdown",
   "id": "3fd8eb49",
   "metadata": {},
   "source": [
    "Tras el análisis ahora tenemos un modelo que es capaz de predecir el precio de los alojamientos con relación a sus características. El análisis de correlación entre variables, ya nos había mostrado que la variable de precio estaba correlacionada con la variable *room_type_Entire home/apt*, y el modelo de árboles de desición, nos permite corrovorarlo. Una vez que ha sido ajustado el modelo, la *property feature_importances_* nos devuelve un vector con la importancia asignada a cada *feature*:"
   ]
  },
  {
   "cell_type": "code",
   "execution_count": 204,
   "id": "aaa42956",
   "metadata": {},
   "outputs": [
    {
     "data": {
      "text/plain": [
       "array([0.        , 0.12581631, 0.00485992, 0.        , 0.80179115,\n",
       "       0.01491557, 0.01312493, 0.        , 0.004869  , 0.03462311])"
      ]
     },
     "execution_count": 204,
     "metadata": {},
     "output_type": "execute_result"
    }
   ],
   "source": [
    "tree.feature_importances_"
   ]
  },
  {
   "cell_type": "markdown",
   "id": "9f669b41",
   "metadata": {},
   "source": [
    "Para tener una mejor comprención de este vector conviene graficarlo:"
   ]
  },
  {
   "cell_type": "code",
   "execution_count": 205,
   "id": "72982e6b",
   "metadata": {},
   "outputs": [
    {
     "data": {
      "text/plain": [
       "(-1.0, 10.0)"
      ]
     },
     "execution_count": 205,
     "metadata": {},
     "output_type": "execute_result"
    },
    {
     "data": {
      "image/png": "[encoded data removed]",
      "text/plain": [
       "<Figure size 432x288 with 1 Axes>"
      ]
     },
     "metadata": {
      "needs_background": "light"
     },
     "output_type": "display_data"
    }
   ],
   "source": [
    "n_features = X.shape[1]\n",
    "plt.barh(np.arange(n_features), tree.feature_importances_, align='center')\n",
    "plt.yticks(np.arange(n_features), X.columns)\n",
    "plt.xlabel(\"Importancia\")\n",
    "plt.ylabel(\"feature\")\n",
    "plt.ylim(-1, n_features)"
   ]
  },
  {
   "cell_type": "markdown",
   "id": "617203cb",
   "metadata": {},
   "source": [
    "La gráfica muestra como la variable más importante es si el alojamiento es una casa o apartamento completo. Las casas o departamentos que se rentan para su ocupación total suelen cotizarce en los precios más altos. La ubicación también es importante. Los departamentos ubicados en Manhatan suelen estar mejor pagados. Otras características que están relacionadas con el precio es si la locación está disponible los 365 días del año, y si se exige un mínimo de noches para reservar. \n",
    "Teniendo esto en mente, realicemos el ejercicio de proponer un departamento, y verificar el posible precio al que podría ser anunicado."
   ]
  },
  {
   "cell_type": "code",
   "execution_count": 206,
   "id": "481e971f",
   "metadata": {},
   "outputs": [
    {
     "data": {
      "text/plain": [
       "Index(['neighbourhood_group_Bronx', 'neighbourhood_group_Manhattan',\n",
       "       'neighbourhood_group_Queens', 'neighbourhood_group_Staten Island',\n",
       "       'room_type_Entire home/apt', 'room_type_Shared room', 'minimum_nights',\n",
       "       'number_of_reviews', 'reviews_per_month', 'availability_365'],\n",
       "      dtype='object')"
      ]
     },
     "execution_count": 206,
     "metadata": {},
     "output_type": "execute_result"
    }
   ],
   "source": [
    "X.columns"
   ]
  },
  {
   "cell_type": "markdown",
   "id": "2d880b29",
   "metadata": {},
   "source": [
    "Supongamos que el departamento se ubica en *Staten Island*, que se trata de un cuarto compartido, *Shared room*, que pedimos cuando menos dos noches en reserva *minimum_nights*, contamos con 10 reseñas *number_of_reviews*, más o menos una por mes *reviews_per_month*, y que nuestra habitación está disponible todo el año *availability_365*."
   ]
  },
  {
   "cell_type": "code",
   "execution_count": 207,
   "id": "a88433af",
   "metadata": {},
   "outputs": [],
   "source": [
    "mi_apartamento = {'neighbourhood_group_Bronx':[0], 'neighbourhood_group_Manhattan':[0],\n",
    "       'neighbourhood_group_Queens':[0], 'neighbourhood_group_Staten Island':[1],\n",
    "       'room_type_Entire home/apt':[0], 'room_type_Shared room':[1], 'minimum_nights':[2],\n",
    "       'number_of_reviews':[10], 'reviews_per_month':[1], 'availability_365':[365]}"
   ]
  },
  {
   "cell_type": "code",
   "execution_count": 208,
   "id": "de006aec",
   "metadata": {},
   "outputs": [],
   "source": [
    "mi_apartamento = pd.DataFrame(mi_apartamento)"
   ]
  },
  {
   "cell_type": "code",
   "execution_count": 209,
   "id": "a5fa9209",
   "metadata": {},
   "outputs": [
    {
     "data": {
      "text/html": [
       "<div>\n",
       "<style scoped>\n",
       "    .dataframe tbody tr th:only-of-type {\n",
       "        vertical-align: middle;\n",
       "    }\n",
       "\n",
       "    .dataframe tbody tr th {\n",
       "        vertical-align: top;\n",
       "    }\n",
       "\n",
       "    .dataframe thead th {\n",
       "        text-align: right;\n",
       "    }\n",
       "</style>\n",
       "<table border=\"1\" class=\"dataframe\">\n",
       "  <thead>\n",
       "    <tr style=\"text-align: right;\">\n",
       "      <th></th>\n",
       "      <th>neighbourhood_group_Bronx</th>\n",
       "      <th>neighbourhood_group_Manhattan</th>\n",
       "      <th>neighbourhood_group_Queens</th>\n",
       "      <th>neighbourhood_group_Staten Island</th>\n",
       "      <th>room_type_Entire home/apt</th>\n",
       "      <th>room_type_Shared room</th>\n",
       "      <th>minimum_nights</th>\n",
       "      <th>number_of_reviews</th>\n",
       "      <th>reviews_per_month</th>\n",
       "      <th>availability_365</th>\n",
       "    </tr>\n",
       "  </thead>\n",
       "  <tbody>\n",
       "    <tr>\n",
       "      <th>0</th>\n",
       "      <td>0</td>\n",
       "      <td>0</td>\n",
       "      <td>0</td>\n",
       "      <td>1</td>\n",
       "      <td>0</td>\n",
       "      <td>1</td>\n",
       "      <td>2</td>\n",
       "      <td>10</td>\n",
       "      <td>1</td>\n",
       "      <td>365</td>\n",
       "    </tr>\n",
       "  </tbody>\n",
       "</table>\n",
       "</div>"
      ],
      "text/plain": [
       "   neighbourhood_group_Bronx  neighbourhood_group_Manhattan  \\\n",
       "0                          0                              0   \n",
       "\n",
       "   neighbourhood_group_Queens  neighbourhood_group_Staten Island  \\\n",
       "0                           0                                  1   \n",
       "\n",
       "   room_type_Entire home/apt  room_type_Shared room  minimum_nights  \\\n",
       "0                          0                      1               2   \n",
       "\n",
       "   number_of_reviews  reviews_per_month  availability_365  \n",
       "0                 10                  1               365  "
      ]
     },
     "execution_count": 209,
     "metadata": {},
     "output_type": "execute_result"
    }
   ],
   "source": [
    "mi_apartamento.head()"
   ]
  },
  {
   "cell_type": "code",
   "execution_count": 210,
   "id": "d5e457c6",
   "metadata": {},
   "outputs": [],
   "source": [
    "mi_apartamento_precio = lm.predict(mi_apartamento)"
   ]
  },
  {
   "cell_type": "code",
   "execution_count": 211,
   "id": "fa0fc412",
   "metadata": {},
   "outputs": [
    {
     "name": "stdout",
     "output_type": "stream",
     "text": [
      "[3.6566135]\n"
     ]
    }
   ],
   "source": [
    "print(mi_apartamento_precio)"
   ]
  },
  {
   "cell_type": "markdown",
   "id": "5659787e",
   "metadata": {},
   "source": [
    "Pero recordemos que el precio por ahora está expresado en log, para obtenerlo en dólares es necesario realizar una transformación."
   ]
  },
  {
   "cell_type": "code",
   "execution_count": 212,
   "id": "a3aa0225",
   "metadata": {},
   "outputs": [],
   "source": [
    "mi_apartamento_precio =np.exp(mi_apartamento_precio)"
   ]
  },
  {
   "cell_type": "code",
   "execution_count": 213,
   "id": "b73b9d21",
   "metadata": {},
   "outputs": [
    {
     "name": "stdout",
     "output_type": "stream",
     "text": [
      "[38.72996144]\n"
     ]
    }
   ],
   "source": [
    "print(mi_apartamento_precio)"
   ]
  },
  {
   "cell_type": "markdown",
   "id": "a9ba8ac3",
   "metadata": {},
   "source": [
    "De acuerdo a nuestro modelo, este es el precio que deberíamos poner a un alojamiento con las características descritas en la ciudad de NY."
   ]
  }
 ],
 "metadata": {
  "kernelspec": {
   "display_name": "Python 3",
   "language": "python",
   "name": "python3"
  },
  "language_info": {
   "codemirror_mode": {
    "name": "ipython",
    "version": 3
   },
   "file_extension": ".py",
   "mimetype": "text/x-python",
   "name": "python",
   "nbconvert_exporter": "python",
   "pygments_lexer": "ipython3",
   "version": "3.8.8"
  }
 },
 "nbformat": 4,
 "nbformat_minor": 5
}
